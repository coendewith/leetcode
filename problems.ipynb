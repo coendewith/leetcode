{
 "cells": [
  {
   "cell_type": "code",
   "execution_count": 4,
   "metadata": {},
   "outputs": [
    {
     "name": "stdout",
     "output_type": "stream",
     "text": [
      "[0, 1]\n",
      "[1, 2]\n",
      "[0, 1]\n",
      "[0, 1]\n",
      "[1, 2]\n",
      "[0, 1]\n"
     ]
    }
   ],
   "source": [
    "def two_sum_brute_force(nums, target):\n",
    "    # Brute force approach with nested loops.\n",
    "    for i, a in enumerate(nums):\n",
    "        for j, b in enumerate(nums):\n",
    "            if i == j:\n",
    "                continue\n",
    "            if (a + b) == target:\n",
    "                return [i, j]\n",
    "    \n",
    "    # Return an empty list if no solution is found (this should not happen as the prompt says exactly one solution exists).\n",
    "    return []\n",
    "\n",
    "def two_sum_hash_map(nums, target):\n",
    "    # Create a hash map to store the indices of the numbers.\n",
    "    num_indices = {}\n",
    "    \n",
    "    # Iterate through the nums array.\n",
    "    for i, num in enumerate(nums):\n",
    "        # Calculate the required complement for the target.\n",
    "        complement = target - num\n",
    "        \n",
    "        # Check if the complement is already in the hash map.\n",
    "        if complement in num_indices:\n",
    "            # If it is, return the indices of the current number and the complement.\n",
    "            return [num_indices[complement], i]\n",
    "        \n",
    "        # If it is not, store the index of the current number in the hash map.\n",
    "        num_indices[num] = i\n",
    "    \n",
    "    # Return an empty list if no solution is found (this should not happen as the prompt says exactly one solution exists).\n",
    "    return []\n",
    "\n",
    "# Examples\n",
    "print(two_sum_brute_force([2, 7, 11, 15], 9))   # Output: [0, 1]\n",
    "print(two_sum_brute_force([3, 2, 4], 6))        # Output: [1, 2]\n",
    "print(two_sum_brute_force([3, 3], 6))           # Output: [0, 1]\n",
    "\n",
    "print(two_sum_hash_map([2, 7, 11, 15], 9))      # Output: [0, 1]\n",
    "print(two_sum_hash_map([3, 2, 4], 6))           # Output: [1, 2]\n",
    "print(two_sum_hash_map([3, 3], 6))              # Output: [0, 1]\n"
   ]
  },
  {
   "cell_type": "code",
   "execution_count": null,
   "metadata": {},
   "outputs": [],
   "source": []
  }
 ],
 "metadata": {
  "kernelspec": {
   "display_name": "Python 3",
   "language": "python",
   "name": "python3"
  },
  "language_info": {
   "codemirror_mode": {
    "name": "ipython",
    "version": 3
   },
   "file_extension": ".py",
   "mimetype": "text/x-python",
   "name": "python",
   "nbconvert_exporter": "python",
   "pygments_lexer": "ipython3",
   "version": "3.12.7"
  }
 },
 "nbformat": 4,
 "nbformat_minor": 2
}
